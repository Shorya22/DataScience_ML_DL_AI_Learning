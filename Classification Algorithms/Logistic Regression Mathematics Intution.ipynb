{
 "cells": [
  {
   "cell_type": "code",
   "execution_count": 1,
   "id": "72d5aa7b",
   "metadata": {},
   "outputs": [],
   "source": [
    "import numpy as np"
   ]
  },
  {
   "cell_type": "markdown",
   "id": "eda7716f",
   "metadata": {},
   "source": [
    "# Logistic Regression Mathematical Intution (Cost Function And Gradient Descent):"
   ]
  },
  {
   "cell_type": "code",
   "execution_count": 3,
   "id": "b640860c",
   "metadata": {},
   "outputs": [
    {
     "name": "stdout",
     "output_type": "stream",
     "text": [
      "Iteration 1, Cost: 0.6931471805599454\n"
     ]
    }
   ],
   "source": [
    "# Define the features and labels\n",
    "X = np.array([2.5, 1.5, 3.5, 2.0, 4.0, 3.0, 2.5, 3.0, 2.0, 1.0])\n",
    "y = np.array([1, 0, 1, 0, 1, 1, 0, 1, 0, 0])\n",
    "\n",
    "# Initialize parameters\n",
    "theta = 0  # Initial guess for weights (one weight for each feature)\n",
    "bias = 0  # Initial guess for bias term\n",
    "\n",
    "# Hyperparameters\n",
    "learning_rate = 0.0005\n",
    "num_iterations = 10000000\n",
    "\n",
    "# Number of data points\n",
    "m = len(X)\n",
    "\n",
    "# Gradient Descent\n",
    "for iteration in range(num_iterations):\n",
    "    # Calculate predictions (logits)\n",
    "    z = X*theta + bias\n",
    "    y_pred = 1 / (1 + np.exp(-z))  # Using NumPy's exp function directly\n",
    "    \n",
    "    # Calculate the log loss (cross-entropy loss)\n",
    "    cost = (-1/m) * np.sum(y * np.log(y_pred) + (1 - y) * np.log(1 - y_pred))\n",
    "    \n",
    "    # Calculate gradients\n",
    "    gradient_theta = (1/m) * np.sum(X*(y_pred - y))\n",
    "    gradient_bias = (1/m) * np.sum(y_pred - y)\n",
    "    \n",
    "    # Update parameters using gradients and learning rate\n",
    "    theta -= learning_rate * gradient_theta\n",
    "    bias -= learning_rate * gradient_bias\n",
    "    \n",
    "    # Print loss for monitoring\n",
    "    if iteration % 1000000 == 0:\n",
    "        print(f'Iteration {iteration + 1}, Cost: {cost}')\n",
    "\n",
    "# Final values of theta and bias\n",
    "print(f'Final values: Theta = {theta}, Bias = {bias}, cost: {round(cost, 4)}')"
   ]
  },
  {
   "cell_type": "code",
   "execution_count": null,
   "id": "16beb9f6",
   "metadata": {},
   "outputs": [],
   "source": []
  }
 ],
 "metadata": {
  "kernelspec": {
   "display_name": "Python 3 (ipykernel)",
   "language": "python",
   "name": "python3"
  },
  "language_info": {
   "codemirror_mode": {
    "name": "ipython",
    "version": 3
   },
   "file_extension": ".py",
   "mimetype": "text/x-python",
   "name": "python",
   "nbconvert_exporter": "python",
   "pygments_lexer": "ipython3",
   "version": "3.11.4"
  }
 },
 "nbformat": 4,
 "nbformat_minor": 5
}
