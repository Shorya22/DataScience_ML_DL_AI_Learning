{
 "cells": [
  {
   "cell_type": "markdown",
   "metadata": {},
   "source": [
    "**Cross Validation:**"
   ]
  },
  {
   "cell_type": "markdown",
   "metadata": {},
   "source": [
    "\n",
    "Cross-validation is like trying out your model on a few different test papers to see how well it can answer new questions. Instead of using just one test paper, you use multiple ones from different parts of your study material. This way, you can get a better idea of how well your model understands and learns the subject. It helps you figure out if your model is good at answering different types of questions or if it needs to study more to perform better."
   ]
  },
  {
   "cell_type": "code",
   "execution_count": null,
   "metadata": {},
   "outputs": [],
   "source": []
  }
 ],
 "metadata": {
  "language_info": {
   "name": "python"
  },
  "orig_nbformat": 4
 },
 "nbformat": 4,
 "nbformat_minor": 2
}
